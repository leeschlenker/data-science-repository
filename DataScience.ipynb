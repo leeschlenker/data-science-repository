{
  "nbformat": 4,
  "nbformat_minor": 0,
  "metadata": {
    "colab": {
      "provenance": [],
      "toc_visible": true,
      "authorship_tag": "ABX9TyPcfkaq27h7MUQQj/HARdVi",
      "include_colab_link": true
    },
    "kernelspec": {
      "name": "python3",
      "display_name": "Python 3"
    },
    "language_info": {
      "name": "python"
    }
  },
  "cells": [
    {
      "cell_type": "markdown",
      "metadata": {
        "id": "view-in-github",
        "colab_type": "text"
      },
      "source": [
        "<a href=\"https://colab.research.google.com/github/leeschlenker/data-science-repository/blob/main/DataScience.ipynb\" target=\"_parent\"><img src=\"https://colab.research.google.com/assets/colab-badge.svg\" alt=\"Open In Colab\"/></a>"
      ]
    },
    {
      "cell_type": "code",
      "execution_count": null,
      "metadata": {
        "id": "v1k9J92d5CvR"
      },
      "outputs": [],
      "source": []
    },
    {
      "cell_type": "markdown",
      "source": [
        "## Ingest"
      ],
      "metadata": {
        "id": "mlfjHO8V5aiF"
      }
    },
    {
      "cell_type": "code",
      "source": [
        "import pandas as pd"
      ],
      "metadata": {
        "id": "v5YkYHyK6dU6"
      },
      "execution_count": 1,
      "outputs": []
    },
    {
      "cell_type": "markdown",
      "source": [
        "pd is an alias for pandas"
      ],
      "metadata": {
        "id": "lhX4xT-q6-oJ"
      }
    },
    {
      "cell_type": "markdown",
      "source": [
        "## EDA (Exploratory data analysis)"
      ],
      "metadata": {
        "id": "1Ei14kFR5c9f"
      }
    },
    {
      "cell_type": "markdown",
      "source": [
        "## Modeling"
      ],
      "metadata": {
        "id": "DhJyTtpN5eHR"
      }
    },
    {
      "cell_type": "markdown",
      "source": [
        "This is the modeling section"
      ],
      "metadata": {
        "id": "cwHlSFUd6NN7"
      }
    },
    {
      "cell_type": "markdown",
      "source": [
        "## Conclusion"
      ],
      "metadata": {
        "id": "SCZSmMwo5f0n"
      }
    }
  ]
}
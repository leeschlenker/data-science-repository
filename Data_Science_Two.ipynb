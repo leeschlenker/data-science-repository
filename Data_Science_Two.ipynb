{
  "nbformat": 4,
  "nbformat_minor": 0,
  "metadata": {
    "colab": {
      "provenance": [],
      "authorship_tag": "ABX9TyOb3JCJNX/LD01CUpvgoe4I",
      "include_colab_link": true
    },
    "kernelspec": {
      "name": "python3",
      "display_name": "Python 3"
    },
    "language_info": {
      "name": "python"
    }
  },
  "cells": [
    {
      "cell_type": "markdown",
      "metadata": {
        "id": "view-in-github",
        "colab_type": "text"
      },
      "source": [
        "<a href=\"https://colab.research.google.com/github/leeschlenker/data-science-repository/blob/main/Data_Science_Two.ipynb\" target=\"_parent\"><img src=\"https://colab.research.google.com/assets/colab-badge.svg\" alt=\"Open In Colab\"/></a>"
      ]
    },
    {
      "cell_type": "code",
      "execution_count": null,
      "metadata": {
        "id": "4hepxtrJ-Yxo"
      },
      "outputs": [],
      "source": []
    },
    {
      "cell_type": "markdown",
      "source": [
        "## Ingest"
      ],
      "metadata": {
        "id": "dIKUTzWX-geH"
      }
    },
    {
      "cell_type": "code",
      "source": [],
      "metadata": {
        "id": "gu0JSvk4-i89"
      },
      "execution_count": null,
      "outputs": []
    },
    {
      "cell_type": "markdown",
      "source": [
        "## EDA"
      ],
      "metadata": {
        "id": "lHIlrEOm-jpo"
      }
    },
    {
      "cell_type": "markdown",
      "source": [],
      "metadata": {
        "id": "WCAds0ev-nlM"
      }
    },
    {
      "cell_type": "code",
      "source": [],
      "metadata": {
        "id": "KGvgKR7j-sxV"
      },
      "execution_count": null,
      "outputs": []
    },
    {
      "cell_type": "markdown",
      "source": [
        "## Modeling"
      ],
      "metadata": {
        "id": "kmx474jB-02e"
      }
    },
    {
      "cell_type": "markdown",
      "source": [
        "## Conclusion"
      ],
      "metadata": {
        "id": "UVQGzuPs-60k"
      }
    },
    {
      "cell_type": "code",
      "source": [],
      "metadata": {
        "id": "VF5prceC_EAD"
      },
      "execution_count": null,
      "outputs": []
    }
  ]
}